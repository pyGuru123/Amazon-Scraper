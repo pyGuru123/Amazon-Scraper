{
 "cells": [
  {
   "cell_type": "code",
   "execution_count": 11,
   "id": "5f89512d",
   "metadata": {},
   "outputs": [],
   "source": [
    "from time import sleep\n",
    "import pandas as pd\n",
    "from random import choice\n",
    "import requests\n",
    "from bs4 import BeautifulSoup"
   ]
  },
  {
   "cell_type": "code",
   "execution_count": 12,
   "id": "8d64a4a5",
   "metadata": {},
   "outputs": [],
   "source": [
    "url = \"https://www.amazon.in/s?k=bags&crid=2M096C61O4MLT&qid=1653308124&sprefix=ba%2Caps%2C283&ref=sr_pg_1\""
   ]
  },
  {
   "cell_type": "code",
   "execution_count": 13,
   "id": "4174bda2",
   "metadata": {},
   "outputs": [],
   "source": [
    "\n",
    "\n"
   ]
  },
  {
   "cell_type": "code",
   "execution_count": 23,
   "id": "5106245b",
   "metadata": {},
   "outputs": [],
   "source": [
    "soup = BeautifulSoup(data, 'lxml')\n",
    "columns = ['page', 'name', 'price', 'url', 'rating', 'reviews']\n",
    "df = pd.DataFrame(columns=columns)"
   ]
  },
  {
   "cell_type": "code",
   "execution_count": 24,
   "id": "fc7ecb6d",
   "metadata": {},
   "outputs": [],
   "source": [
    "divs = soup.find_all('div', {'class':'s-result-item'})"
   ]
  },
  {
   "cell_type": "code",
   "execution_count": 31,
   "id": "311647e6",
   "metadata": {},
   "outputs": [],
   "source": [
    "for index, div in enumerate(divs[:30]):\n",
    "    name = div.find('span', {'class':'a-size-medium a-color-base a-text-normal'})\n",
    "    if name:\n",
    "        try:\n",
    "            row = []\n",
    "            price = div.find('span', {'class': 'a-price-whole'}).text\n",
    "            url = div.find('a', {'class':'a-link-normal s-underline-text s-underline-link-text s-link-style a-text-normal'})['href']\n",
    "            url = \"https://amazon.com\" + url\n",
    "            rating = div.find('span', {'class':'a-icon-alt'}).text.split()[0]\n",
    "            reviews = div.find('span', {'class':'a-size-base s-underline-text'}).text\n",
    "            \n",
    "            row.append(1)\n",
    "            row.append(name.text)\n",
    "            row.append(price)\n",
    "            row.append(url)\n",
    "            row.append(rating)\n",
    "            row.append(reviews)\n",
    "            df.loc[len(df)] = row\n",
    "        except:\n",
    "            pass"
   ]
  },
  {
   "cell_type": "code",
   "execution_count": 26,
   "id": "9560cafc",
   "metadata": {},
   "outputs": [
    {
     "name": "stdout",
     "output_type": "stream",
     "text": [
      "43\n"
     ]
    }
   ],
   "source": [
    "print(len(divs))"
   ]
  },
  {
   "cell_type": "code",
   "execution_count": 32,
   "id": "ff2960eb",
   "metadata": {},
   "outputs": [
    {
     "name": "stdout",
     "output_type": "stream",
     "text": [
      "    page                                               name  price  \\\n",
      "0      1  URBAN TRIBE Havana 15.6\" inch Laptop Backpack ...    998   \n",
      "1      1  MOKOBARA Backpack Pro 15.6\" Inch Laptop Backpa...  5,990   \n",
      "2      1  Wesley Milestone 2.0 Casual Waterproof Laptop ...    565   \n",
      "3      1  American Tourister 32 Ltrs Black Casual Backpa...  1,299   \n",
      "4      1  ADISA 15.6 inch Laptop Backpack Office Bag Col...    499   \n",
      "5      1          Skybags Brat Black 46 Cms Casual Backpack    669   \n",
      "6      1  Northzone Casual Waterproof Laptop Backpack/Of...    510   \n",
      "7      1  Fur Jaden Brown Textured Leatherette Stylish &...    889   \n",
      "8      1  TRUE HUMAN® Emperor Anti-Theft backpack With U...    699   \n",
      "9      1  Martucci 15.6 inch 30 L Casual Waterproof Lapt...    565   \n",
      "10     1  NORTH ZONE 30 ltrs ( Cms) backpack(INVALID DAT...    599   \n",
      "11     1  Dopenain 27 L Casual/ Laptop Bag/Office School...    489   \n",
      "12     1  Wesley Milestone 2.0 Casual Waterproof Laptop ...    565   \n",
      "13     1  FUR JADEN Anti Theft Number Lock Backpack Bag ...    689   \n",
      "14     1  Half Moon 35 ltrs (33 cms)backpack(Navy Laptop...    689   \n",
      "\n",
      "                                                  url rating reviews  \n",
      "0   https://amazon.com/sspa/click?ie=UTF8&spc=MTo0...    3.9     684  \n",
      "1   https://amazon.com/sspa/click?ie=UTF8&spc=MTo0...    4.4     223  \n",
      "2   https://amazon.com/Wesley-Milestone-Waterproof...    4.3   9,221  \n",
      "3   https://amazon.com/American-Tourister-AMT-SCH-...    4.1  51,353  \n",
      "4   https://amazon.com/ADISA-Laptop-Backpack-Offic...    3.9     461  \n",
      "5   https://amazon.com/Skybags-Brat-Black-Casual-B...    4.1   3,364  \n",
      "6   https://amazon.com/Northzone-Waterproof-Backpa...    5.0       2  \n",
      "7   https://amazon.com/FUR-JADEN-Leatherette-Polyp...    4.3   5,313  \n",
      "8   https://amazon.com/TRUE-HUMAN-Anti-Theft-backp...    3.7   1,701  \n",
      "9   https://amazon.com/Martucci-Casual-Travelling-...    4.0   6,982  \n",
      "10  https://amazon.com/sspa/click?ie=UTF8&spc=MTo0...    3.7      33  \n",
      "11  https://amazon.com/sspa/click?ie=UTF8&spc=MTo0...    3.4      19  \n",
      "12  https://amazon.com/Wesley-Milestone-Waterproof...    4.3   9,221  \n",
      "13  https://amazon.com/Number-Backpack-Compartment...    3.9   2,683  \n",
      "14  https://amazon.com/Half-Moon-Waterproof-Backpa...    3.9  14,904  \n"
     ]
    }
   ],
   "source": [
    "print(df)"
   ]
  },
  {
   "cell_type": "code",
   "execution_count": 33,
   "id": "9ccee54e",
   "metadata": {},
   "outputs": [
    {
     "name": "stdout",
     "output_type": "stream",
     "text": [
      "15\n"
     ]
    }
   ],
   "source": [
    "print(len(df))"
   ]
  },
  {
   "cell_type": "code",
   "execution_count": null,
   "id": "4fd3c0bc",
   "metadata": {},
   "outputs": [],
   "source": []
  }
 ],
 "metadata": {
  "kernelspec": {
   "display_name": "Python 3 (ipykernel)",
   "language": "python",
   "name": "python3"
  },
  "language_info": {
   "codemirror_mode": {
    "name": "ipython",
    "version": 3
   },
   "file_extension": ".py",
   "mimetype": "text/x-python",
   "name": "python",
   "nbconvert_exporter": "python",
   "pygments_lexer": "ipython3",
   "version": "3.10.7"
  }
 },
 "nbformat": 4,
 "nbformat_minor": 5
}
